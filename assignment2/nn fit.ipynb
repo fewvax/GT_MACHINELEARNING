{
 "cells": [
  {
   "cell_type": "code",
   "execution_count": 2,
   "id": "f721d55a",
   "metadata": {},
   "outputs": [],
   "source": [
    "import mlrose_hiive\n",
    "import numpy as np\n",
    "import pandas as pd\n",
    "import matplotlib.pyplot as plt\n",
    "from sklearn.metrics import accuracy_score\n",
    "from sklearn.preprocessing import StandardScaler\n",
    "from sklearn.model_selection import train_test_split, KFold, validation_curve, learning_curve\n",
    "import warnings\n",
    "import time\n",
    "warnings.filterwarnings('ignore')\n",
    "from random import randint\n"
   ]
  },
  {
   "cell_type": "code",
   "execution_count": 3,
   "id": "a90b0b09",
   "metadata": {},
   "outputs": [],
   "source": [
    "df = pd.read_csv('/Users/qingzhou/Desktop/GT_OMSCS/Machine_Learning_CS7641/assignment_1/winequality-white.csv')\n",
    "df.isnull().sum()\n",
    "x_features = ['fixed acidity', 'volatile acidity', 'citric acid', 'residual sugar',\n",
    "       'chlorides', 'free sulfur dioxide', 'total sulfur dioxide', 'density',\n",
    "       'pH', 'sulphates', 'alcohol']\n",
    "y_output = ['quality']\n",
    "class_name = ['bad', 'good']\n",
    "data = df\n",
    "df_x, df_y = data[x_features], data[y_output]\n",
    "df_y['quality'].mask(df['quality'] <=5, 0, inplace= True)\n",
    "df_y['quality'].mask(df['quality'] >=6, 1, inplace= True)\n",
    "sc = StandardScaler()\n",
    "X_train, X_test, Y_train, Y_test = train_test_split(df_x, df_y, test_size=0.2)\n",
    "X_train, X_test = sc.fit_transform(X_train), sc.fit_transform(X_test)\n",
    "\n"
   ]
  },
  {
   "cell_type": "code",
   "execution_count": 21,
   "id": "566e41e7",
   "metadata": {},
   "outputs": [],
   "source": [
    "def nn(x_train, y_train, x, y, algo, restart, schedule, size, key, itr):\n",
    "    if size:\n",
    "        nn_model = mlrose_hiive.NeuralNetwork(hidden_nodes = [25, 2], algorithm = algo, activation='identity', pop_size = size, mutation_prob=0.1,\n",
    "                                          max_iters=itr, learning_rate=1e-3, early_stopping = True, random_state=10, max_attempts = 1000)\n",
    "        print('ga')\n",
    "    elif schedule:  \n",
    "        nn_model = mlrose_hiive.NeuralNetwork(hidden_nodes = [25, 2], algorithm = algo, activation='identity', schedule= schedule,\n",
    "                                          max_iters=itr, learning_rate=1e-3, early_stopping = True, random_state=10, max_attempts = 1000)\n",
    "        print('sa')\n",
    "    elif restart:\n",
    "        nn_model = mlrose_hiive.NeuralNetwork(hidden_nodes = [25, 2], algorithm = algo, activation='identity', restarts= restart,\n",
    "                                          max_iters=itr, learning_rate=1e-3, early_stopping = True, random_state=10, max_attempts = 1000)\n",
    "        print('rhc')\n",
    "    \n",
    "    start = time.time()\n",
    "    model=nn_model.fit(x_train, y_train)\n",
    "    print(model.loss)\n",
    "    model_time[key].append(time.time()-start)\n",
    "    \n",
    "    pred_train = model.predict(x_train)\n",
    "    y_acc_train = accuracy_score(y_train, pred_train)\n",
    "    \n",
    "    \n",
    "    pred = model.predict(x)\n",
    "    y_acc = accuracy_score(y, pred)\n",
    "    model_acc[key]['train'].append(y_acc_train)\n",
    "    model_acc[key]['test'].append(y_acc)\n",
    "    \n",
    "    "
   ]
  },
  {
   "cell_type": "code",
   "execution_count": 18,
   "id": "41693967",
   "metadata": {},
   "outputs": [],
   "source": [
    "def plotting(labels, data, rang, x, y, title, file):\n",
    "    plt.figure()\n",
    "    for label, arr in zip(labels, data):\n",
    "        plt.plot(rang, arr, label=label)\n",
    "    plt.legend()\n",
    "    plt.xlabel(x)\n",
    "    plt.ylabel(y)\n",
    "    plt.title(title)\n",
    "    plt.savefig(file, dpi = 1200)"
   ]
  },
  {
   "cell_type": "code",
   "execution_count": 19,
   "id": "17d3669f",
   "metadata": {},
   "outputs": [],
   "source": [
    "model_time = {0:[], 1:[], 2:[]}\n",
    "model_acc = {0:{'train':[], 'test':[]}, 1:{'train':[], 'test':[]}, \n",
    "             2:{'train':[], 'test':[]}}"
   ]
  },
  {
   "cell_type": "code",
   "execution_count": 24,
   "id": "f2ad365e",
   "metadata": {},
   "outputs": [
    {
     "name": "stdout",
     "output_type": "stream",
     "text": [
      "rhc\n",
      "0.5577380355904562\n",
      "sa\n",
      "1.2517225562198702\n",
      "ga\n",
      "8.136747720096363\n"
     ]
    }
   ],
   "source": [
    "nn(X_train, Y_train, X_test, Y_test, 'random_hill_climb', 10, None, None, 0, 90100)\n",
    "nn(X_train, Y_train, X_test, Y_test, 'simulated_annealing', None, mlrose_hiive.ExpDecay(), None, 1, 80100)\n",
    "nn(X_train, Y_train, X_test, Y_test, 'genetic_alg', None, None, 200, 2, 10100)"
   ]
  },
  {
   "cell_type": "code",
   "execution_count": null,
   "id": "12d4dae7",
   "metadata": {},
   "outputs": [],
   "source": []
  }
 ],
 "metadata": {
  "kernelspec": {
   "display_name": "Python 3 (ipykernel)",
   "language": "python",
   "name": "python3"
  },
  "language_info": {
   "codemirror_mode": {
    "name": "ipython",
    "version": 3
   },
   "file_extension": ".py",
   "mimetype": "text/x-python",
   "name": "python",
   "nbconvert_exporter": "python",
   "pygments_lexer": "ipython3",
   "version": "3.9.12"
  }
 },
 "nbformat": 4,
 "nbformat_minor": 5
}
